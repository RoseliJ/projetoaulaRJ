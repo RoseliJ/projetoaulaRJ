{
  "cells": [
    {
      "cell_type": "markdown",
      "metadata": {
        "colab_type": "text",
        "id": "view-in-github"
      },
      "source": [
        "<a href=\"https://colab.research.google.com/github/RoseliJ/projetoaulaRJ/blob/master/Notebook1RJ.ipynb\" target=\"_parent\"><img src=\"https://colab.research.google.com/assets/colab-badge.svg\" alt=\"Open In Colab\"/></a>"
      ]
    },
    {
      "cell_type": "markdown",
      "metadata": {
        "id": "1SHT1FxAVmft"
      },
      "source": [
        "Importação da biblioteca Pandas utilizada para analise e tratamento de dados\n",
        "\n",
        "\n",
        "  "
      ]
    },
    {
      "cell_type": "code",
      "execution_count": 1,
      "metadata": {
        "id": "ng1ssKLdHU6D"
      },
      "outputs": [],
      "source": [
        "import pandas as pd"
      ]
    },
    {
      "cell_type": "markdown",
      "metadata": {
        "id": "Wi9Ny3I0WYq-"
      },
      "source": [
        "Realizando a leitura do arquivo csv do meu GITHUB"
      ]
    },
    {
      "cell_type": "markdown",
      "metadata": {},
      "source": [
        "fazendo uma nova alteração"
      ]
    },
    {
      "cell_type": "code",
      "execution_count": 4,
      "metadata": {
        "id": "pgVwC5fJLQGd"
      },
      "outputs": [],
      "source": [
        "df=pd.read_csv('https://raw.githubusercontent.com/RoseliJ/projetoaulaRJ/master/Dados/ExercicioAula.csv', sep=';')\n"
      ]
    },
    {
      "cell_type": "code",
      "execution_count": 6,
      "metadata": {
        "colab": {
          "base_uri": "https://localhost:8080/"
        },
        "id": "GaHeFfPERbr-",
        "outputId": "9b345dda-8db8-4039-d5a8-325039244dc4"
      },
      "outputs": [
        {
          "name": "stdout",
          "output_type": "stream",
          "text": [
            "                         Nome da pessoa  ...  Tipo Sanguíneo da Pessoa\n",
            "0              Marli Juliana Nascimento  ...                       AB+\n",
            "1         Gabriela Alana Mariah Drumond  ...                        B+\n",
            "2                  Cauã Renato Silveira  ...                        B-\n",
            "3     Benedito Sérgio Sebastião Cardoso  ...                       AB-\n",
            "4          Flávia Isadora Lívia Moreira  ...                       AB-\n",
            "...                                 ...  ...                       ...\n",
            "1595                Gustavo Luís Fogaça  ...                       AB+\n",
            "1596      Sebastião Noah Anthony Castro  ...                        O-\n",
            "1597                     Enzo Ruan Dias  ...                        O-\n",
            "1598           Francisco Isaac Carvalho  ...                        B-\n",
            "1599       Elias Caleb Leonardo da Mata  ...                       AB+\n",
            "\n",
            "[1600 rows x 12 columns]\n"
          ]
        }
      ],
      "source": [
        "print (df)"
      ]
    }
  ],
  "metadata": {
    "colab": {
      "authorship_tag": "ABX9TyN3F8javgHGlHLywBA4D0IB",
      "include_colab_link": true,
      "name": "Notebook1RJ.ipynb",
      "provenance": []
    },
    "kernelspec": {
      "display_name": "Python 3",
      "name": "python3"
    },
    "language_info": {
      "name": "python"
    }
  },
  "nbformat": 4,
  "nbformat_minor": 0
}
