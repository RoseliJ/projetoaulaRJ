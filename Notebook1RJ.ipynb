{
  "nbformat": 4,
  "nbformat_minor": 0,
  "metadata": {
    "colab": {
      "name": "Notebook1RJ.ipynb",
      "provenance": [],
      "authorship_tag": "ABX9TyN3F8javgHGlHLywBA4D0IB",
      "include_colab_link": true
    },
    "kernelspec": {
      "name": "python3",
      "display_name": "Python 3"
    },
    "language_info": {
      "name": "python"
    }
  },
  "cells": [
    {
      "cell_type": "markdown",
      "metadata": {
        "id": "view-in-github",
        "colab_type": "text"
      },
      "source": [
        "<a href=\"https://colab.research.google.com/github/RoseliJ/projetoaulaRJ/blob/master/Notebook1RJ.ipynb\" target=\"_parent\"><img src=\"https://colab.research.google.com/assets/colab-badge.svg\" alt=\"Open In Colab\"/></a>"
      ]
    },
    {
      "cell_type": "markdown",
      "metadata": {
        "id": "1SHT1FxAVmft"
      },
      "source": [
        "Importação da biblioteca Pandas utilizada para analise e tratamento de dados\n",
        "\n",
        "\n",
        "  "
      ]
    },
    {
      "cell_type": "code",
      "metadata": {
        "id": "ng1ssKLdHU6D"
      },
      "source": [
        "import pandas as pd"
      ],
      "execution_count": 1,
      "outputs": []
    },
    {
      "cell_type": "markdown",
      "metadata": {
        "id": "Wi9Ny3I0WYq-"
      },
      "source": [
        "Realizando a leitura do arquivo csv do meu GITHUB"
      ]
    },
    {
      "cell_type": "code",
      "metadata": {
        "id": "pgVwC5fJLQGd"
      },
      "source": [
        "df=pd.read_csv('https://raw.githubusercontent.com/RoseliJ/projetoaulaRJ/master/Dados/ExercicioAula.csv', sep=';')\n"
      ],
      "execution_count": 4,
      "outputs": []
    },
    {
      "cell_type": "code",
      "metadata": {
        "colab": {
          "base_uri": "https://localhost:8080/"
        },
        "id": "GaHeFfPERbr-",
        "outputId": "9b345dda-8db8-4039-d5a8-325039244dc4"
      },
      "source": [
        "print (df)"
      ],
      "execution_count": 6,
      "outputs": [
        {
          "output_type": "stream",
          "name": "stdout",
          "text": [
            "                         Nome da pessoa  ...  Tipo Sanguíneo da Pessoa\n",
            "0              Marli Juliana Nascimento  ...                       AB+\n",
            "1         Gabriela Alana Mariah Drumond  ...                        B+\n",
            "2                  Cauã Renato Silveira  ...                        B-\n",
            "3     Benedito Sérgio Sebastião Cardoso  ...                       AB-\n",
            "4          Flávia Isadora Lívia Moreira  ...                       AB-\n",
            "...                                 ...  ...                       ...\n",
            "1595                Gustavo Luís Fogaça  ...                       AB+\n",
            "1596      Sebastião Noah Anthony Castro  ...                        O-\n",
            "1597                     Enzo Ruan Dias  ...                        O-\n",
            "1598           Francisco Isaac Carvalho  ...                        B-\n",
            "1599       Elias Caleb Leonardo da Mata  ...                       AB+\n",
            "\n",
            "[1600 rows x 12 columns]\n"
          ]
        }
      ]
    }
  ]
}